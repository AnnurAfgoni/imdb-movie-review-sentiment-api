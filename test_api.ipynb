{
 "cells": [
  {
   "cell_type": "code",
   "execution_count": 1,
   "metadata": {},
   "outputs": [],
   "source": [
    "# import request\n",
    "import requests as r"
   ]
  },
  {
   "cell_type": "code",
   "execution_count": 2,
   "metadata": {},
   "outputs": [],
   "source": [
    "# add review\n",
    "review = \"\"\"\n",
    "    This movie was exactly what I wanted in a Godzilla vs Kong movie. \n",
    "    It's big loud, brash and dumb, in the best ways possible. \n",
    "    It also has a heart in a the form of Jia (Kaylee Hottle) and a superbly expressionful Kong. \n",
    "    The scenes of him in the hollow world are especially impactful and beautifully shot/animated. \n",
    "    Kong really is the emotional core of the film (with Godzilla more of an indifferent force of nature), \n",
    "    and is done so well he may even convert a few members of Team Godzilla.\n",
    "    \"\"\"\n",
    "\n",
    "# parameter\n",
    "keys = {\"review\": review}\n",
    "\n",
    "# predict using api\n",
    "prediction = r.get(\"http://127.0.0.1:8000/predict\", params=keys)"
   ]
  },
  {
   "cell_type": "code",
   "execution_count": 3,
   "metadata": {},
   "outputs": [
    {
     "data": {
      "text/plain": [
       "<Response [200]>"
      ]
     },
     "execution_count": 3,
     "metadata": {},
     "output_type": "execute_result"
    }
   ],
   "source": [
    "# api response\n",
    "prediction"
   ]
  },
  {
   "cell_type": "code",
   "execution_count": 4,
   "metadata": {},
   "outputs": [
    {
     "data": {
      "text/plain": [
       "{'prediction': 'Positive', 'probability': '0.56'}"
      ]
     },
     "execution_count": 4,
     "metadata": {},
     "output_type": "execute_result"
    }
   ],
   "source": [
    "# prediction\n",
    "prediction.json()"
   ]
  }
 ],
 "metadata": {
  "kernelspec": {
   "display_name": ".env",
   "language": "python",
   "name": "python3"
  },
  "language_info": {
   "codemirror_mode": {
    "name": "ipython",
    "version": 3
   },
   "file_extension": ".py",
   "mimetype": "text/x-python",
   "name": "python",
   "nbconvert_exporter": "python",
   "pygments_lexer": "ipython3",
   "version": "3.9.7"
  }
 },
 "nbformat": 4,
 "nbformat_minor": 2
}
